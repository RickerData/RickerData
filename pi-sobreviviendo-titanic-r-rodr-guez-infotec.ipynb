{
 "cells": [
  {
   "cell_type": "code",
   "execution_count": 1,
   "id": "ef852782",
   "metadata": {
    "_cell_guid": "b1076dfc-b9ad-4769-8c92-a6c4dae69d19",
    "_uuid": "8f2839f25d086af736a60e9eeb907d3b93b6e0e5",
    "execution": {
     "iopub.execute_input": "2022-06-26T01:24:32.967452Z",
     "iopub.status.busy": "2022-06-26T01:24:32.967091Z",
     "iopub.status.idle": "2022-06-26T01:24:32.984394Z",
     "shell.execute_reply": "2022-06-26T01:24:32.982991Z"
    },
    "papermill": {
     "duration": 0.038381,
     "end_time": "2022-06-26T01:24:32.986720",
     "exception": false,
     "start_time": "2022-06-26T01:24:32.948339",
     "status": "completed"
    },
    "tags": []
   },
   "outputs": [
    {
     "name": "stdout",
     "output_type": "stream",
     "text": [
      "/kaggle/input/titanic-machine-learning-from-disaster/train.csv\n",
      "/kaggle/input/titanic-machine-learning-from-disaster/test.csv\n"
     ]
    }
   ],
   "source": [
    "# This Python 3 environment comes with many helpful analytics libraries installed\n",
    "# It is defined by the kaggle/python Docker image: https://github.com/kaggle/docker-python\n",
    "# For example, here's several helpful packages to load\n",
    "\n",
    "import numpy as np # linear algebra\n",
    "import pandas as pd # data processing, CSV file I/O (e.g. pd.read_csv)\n",
    "\n",
    "# Input data files are available in the read-only \"../input/\" directory\n",
    "# For example, running this (by clicking run or pressing Shift+Enter) will list all files under the input directory\n",
    "\n",
    "import os\n",
    "for dirname, _, filenames in os.walk('/kaggle/input'):\n",
    "    for filename in filenames:\n",
    "        print(os.path.join(dirname, filename))\n",
    "\n",
    "# You can write up to 20GB to the current directory (/kaggle/working/) that gets preserved as output when you create a version using \"Save & Run All\" \n",
    "# You can also write temporary files to /kaggle/temp/, but they won't be saved outside of the current session"
   ]
  },
  {
   "cell_type": "code",
   "execution_count": 2,
   "id": "2d7f65fc",
   "metadata": {
    "execution": {
     "iopub.execute_input": "2022-06-26T01:24:33.021431Z",
     "iopub.status.busy": "2022-06-26T01:24:33.021100Z",
     "iopub.status.idle": "2022-06-26T01:24:35.250861Z",
     "shell.execute_reply": "2022-06-26T01:24:35.249753Z"
    },
    "papermill": {
     "duration": 2.249962,
     "end_time": "2022-06-26T01:24:35.253338",
     "exception": false,
     "start_time": "2022-06-26T01:24:33.003376",
     "status": "completed"
    },
    "tags": []
   },
   "outputs": [],
   "source": [
    "import pandas as pd\n",
    "import numpy as np\n",
    "import matplotlib.pyplot as plt\n",
    "from sklearn.linear_model import LogisticRegression\n",
    "from sklearn.model_selection import train_test_split\n",
    "from sklearn.preprocessing import StandardScaler\n",
    "import seaborn as sns\n",
    "from scipy import stats\n",
    "import statsmodels.api as sm\n"
   ]
  },
  {
   "cell_type": "markdown",
   "id": "137240e8",
   "metadata": {
    "papermill": {
     "duration": 0.01679,
     "end_time": "2022-06-26T01:24:35.287026",
     "exception": false,
     "start_time": "2022-06-26T01:24:35.270236",
     "status": "completed"
    },
    "tags": []
   },
   "source": [
    "# **1**"
   ]
  },
  {
   "cell_type": "code",
   "execution_count": 3,
   "id": "b0ad6284",
   "metadata": {
    "execution": {
     "iopub.execute_input": "2022-06-26T01:24:35.324201Z",
     "iopub.status.busy": "2022-06-26T01:24:35.323864Z",
     "iopub.status.idle": "2022-06-26T01:24:35.365262Z",
     "shell.execute_reply": "2022-06-26T01:24:35.364126Z"
    },
    "papermill": {
     "duration": 0.063434,
     "end_time": "2022-06-26T01:24:35.367715",
     "exception": false,
     "start_time": "2022-06-26T01:24:35.304281",
     "status": "completed"
    },
    "tags": []
   },
   "outputs": [
    {
     "data": {
      "text/html": [
       "<div>\n",
       "<style scoped>\n",
       "    .dataframe tbody tr th:only-of-type {\n",
       "        vertical-align: middle;\n",
       "    }\n",
       "\n",
       "    .dataframe tbody tr th {\n",
       "        vertical-align: top;\n",
       "    }\n",
       "\n",
       "    .dataframe thead th {\n",
       "        text-align: right;\n",
       "    }\n",
       "</style>\n",
       "<table border=\"1\" class=\"dataframe\">\n",
       "  <thead>\n",
       "    <tr style=\"text-align: right;\">\n",
       "      <th></th>\n",
       "      <th>PassengerId</th>\n",
       "      <th>Survived</th>\n",
       "      <th>Pclass</th>\n",
       "      <th>Name</th>\n",
       "      <th>Sex</th>\n",
       "      <th>Age</th>\n",
       "      <th>SibSp</th>\n",
       "      <th>Parch</th>\n",
       "      <th>Ticket</th>\n",
       "      <th>Fare</th>\n",
       "      <th>Cabin</th>\n",
       "      <th>Embarked</th>\n",
       "    </tr>\n",
       "  </thead>\n",
       "  <tbody>\n",
       "    <tr>\n",
       "      <th>0</th>\n",
       "      <td>1</td>\n",
       "      <td>0</td>\n",
       "      <td>3</td>\n",
       "      <td>Braund, Mr. Owen Harris</td>\n",
       "      <td>male</td>\n",
       "      <td>22.0</td>\n",
       "      <td>1</td>\n",
       "      <td>0</td>\n",
       "      <td>A/5 21171</td>\n",
       "      <td>7.2500</td>\n",
       "      <td>NaN</td>\n",
       "      <td>S</td>\n",
       "    </tr>\n",
       "    <tr>\n",
       "      <th>1</th>\n",
       "      <td>2</td>\n",
       "      <td>1</td>\n",
       "      <td>1</td>\n",
       "      <td>Cumings, Mrs. John Bradley (Florence Briggs Th...</td>\n",
       "      <td>female</td>\n",
       "      <td>38.0</td>\n",
       "      <td>1</td>\n",
       "      <td>0</td>\n",
       "      <td>PC 17599</td>\n",
       "      <td>71.2833</td>\n",
       "      <td>C85</td>\n",
       "      <td>C</td>\n",
       "    </tr>\n",
       "    <tr>\n",
       "      <th>2</th>\n",
       "      <td>3</td>\n",
       "      <td>1</td>\n",
       "      <td>3</td>\n",
       "      <td>Heikkinen, Miss. Laina</td>\n",
       "      <td>female</td>\n",
       "      <td>26.0</td>\n",
       "      <td>0</td>\n",
       "      <td>0</td>\n",
       "      <td>STON/O2. 3101282</td>\n",
       "      <td>7.9250</td>\n",
       "      <td>NaN</td>\n",
       "      <td>S</td>\n",
       "    </tr>\n",
       "    <tr>\n",
       "      <th>3</th>\n",
       "      <td>4</td>\n",
       "      <td>1</td>\n",
       "      <td>1</td>\n",
       "      <td>Futrelle, Mrs. Jacques Heath (Lily May Peel)</td>\n",
       "      <td>female</td>\n",
       "      <td>35.0</td>\n",
       "      <td>1</td>\n",
       "      <td>0</td>\n",
       "      <td>113803</td>\n",
       "      <td>53.1000</td>\n",
       "      <td>C123</td>\n",
       "      <td>S</td>\n",
       "    </tr>\n",
       "    <tr>\n",
       "      <th>4</th>\n",
       "      <td>5</td>\n",
       "      <td>0</td>\n",
       "      <td>3</td>\n",
       "      <td>Allen, Mr. William Henry</td>\n",
       "      <td>male</td>\n",
       "      <td>35.0</td>\n",
       "      <td>0</td>\n",
       "      <td>0</td>\n",
       "      <td>373450</td>\n",
       "      <td>8.0500</td>\n",
       "      <td>NaN</td>\n",
       "      <td>S</td>\n",
       "    </tr>\n",
       "  </tbody>\n",
       "</table>\n",
       "</div>"
      ],
      "text/plain": [
       "   PassengerId  Survived  Pclass  \\\n",
       "0            1         0       3   \n",
       "1            2         1       1   \n",
       "2            3         1       3   \n",
       "3            4         1       1   \n",
       "4            5         0       3   \n",
       "\n",
       "                                                Name     Sex   Age  SibSp  \\\n",
       "0                            Braund, Mr. Owen Harris    male  22.0      1   \n",
       "1  Cumings, Mrs. John Bradley (Florence Briggs Th...  female  38.0      1   \n",
       "2                             Heikkinen, Miss. Laina  female  26.0      0   \n",
       "3       Futrelle, Mrs. Jacques Heath (Lily May Peel)  female  35.0      1   \n",
       "4                           Allen, Mr. William Henry    male  35.0      0   \n",
       "\n",
       "   Parch            Ticket     Fare Cabin Embarked  \n",
       "0      0         A/5 21171   7.2500   NaN        S  \n",
       "1      0          PC 17599  71.2833   C85        C  \n",
       "2      0  STON/O2. 3101282   7.9250   NaN        S  \n",
       "3      0            113803  53.1000  C123        S  \n",
       "4      0            373450   8.0500   NaN        S  "
      ]
     },
     "execution_count": 3,
     "metadata": {},
     "output_type": "execute_result"
    }
   ],
   "source": [
    "#Carga los datos\n",
    "#Importar datos, crear marco (df) 'passengers', imprimir cabecera e inspeccionar columnas\n",
    "\n",
    "passengers = pd.read_csv(\"../input/titanic-machine-learning-from-disaster/train.csv\")\n",
    "passengers.head()"
   ]
  },
  {
   "cell_type": "code",
   "execution_count": 4,
   "id": "3b62d6f4",
   "metadata": {
    "execution": {
     "iopub.execute_input": "2022-06-26T01:24:35.404710Z",
     "iopub.status.busy": "2022-06-26T01:24:35.404343Z",
     "iopub.status.idle": "2022-06-26T01:24:35.600512Z",
     "shell.execute_reply": "2022-06-26T01:24:35.599297Z"
    },
    "papermill": {
     "duration": 0.217725,
     "end_time": "2022-06-26T01:24:35.602860",
     "exception": false,
     "start_time": "2022-06-26T01:24:35.385135",
     "status": "completed"
    },
    "tags": []
   },
   "outputs": [
    {
     "data": {
      "text/plain": [
       "<AxesSubplot:>"
      ]
     },
     "execution_count": 4,
     "metadata": {},
     "output_type": "execute_result"
    },
    {
     "data": {
      "image/png": "[encoded data removed]",
      "text/plain": [
       "<Figure size 432x288 with 1 Axes>"
      ]
     },
     "metadata": {
      "needs_background": "light"
     },
     "output_type": "display_data"
    }
   ],
   "source": [
    "#murió más gente de la que sobrevivió...\n",
    "\n",
    "passengers[\"Survived\"].value_counts().plot(kind='bar')"
   ]
  },
  {
   "cell_type": "code",
   "execution_count": 5,
   "id": "8e150334",
   "metadata": {
    "execution": {
     "iopub.execute_input": "2022-06-26T01:24:35.640333Z",
     "iopub.status.busy": "2022-06-26T01:24:35.639367Z",
     "iopub.status.idle": "2022-06-26T01:24:35.737538Z",
     "shell.execute_reply": "2022-06-26T01:24:35.736869Z"
    },
    "papermill": {
     "duration": 0.11917,
     "end_time": "2022-06-26T01:24:35.739683",
     "exception": false,
     "start_time": "2022-06-26T01:24:35.620513",
     "status": "completed"
    },
    "tags": []
   },
   "outputs": [
    {
     "data": {
      "text/plain": [
       "<AxesSubplot:>"
      ]
     },
     "execution_count": 5,
     "metadata": {},
     "output_type": "execute_result"
    },
    {
     "data": {
      "image/png": "[encoded data removed]",
      "text/plain": [
       "<Figure size 432x288 with 1 Axes>"
      ]
     },
     "metadata": {
      "needs_background": "light"
     },
     "output_type": "display_data"
    }
   ],
   "source": [
    "#Aquí quise ver más o menos cuántas mujeres sobrevivieron\n",
    "\n",
    "passengers[passengers[\"Sex\"]==\"female\"][\"Survived\"].value_counts().plot(kind='bar')\n"
   ]
  },
  {
   "cell_type": "code",
   "execution_count": 6,
   "id": "be108ec9",
   "metadata": {
    "execution": {
     "iopub.execute_input": "2022-06-26T01:24:35.783790Z",
     "iopub.status.busy": "2022-06-26T01:24:35.783242Z",
     "iopub.status.idle": "2022-06-26T01:24:35.799068Z",
     "shell.execute_reply": "2022-06-26T01:24:35.797540Z"
    },
    "papermill": {
     "duration": 0.040543,
     "end_time": "2022-06-26T01:24:35.801528",
     "exception": false,
     "start_time": "2022-06-26T01:24:35.760985",
     "status": "completed"
    },
    "tags": []
   },
   "outputs": [
    {
     "name": "stdout",
     "output_type": "stream",
     "text": [
      "<class 'pandas.core.frame.DataFrame'>\n",
      "RangeIndex: 891 entries, 0 to 890\n",
      "Data columns (total 12 columns):\n",
      " #   Column       Non-Null Count  Dtype  \n",
      "---  ------       --------------  -----  \n",
      " 0   PassengerId  891 non-null    int64  \n",
      " 1   Survived     891 non-null    int64  \n",
      " 2   Pclass       891 non-null    int64  \n",
      " 3   Name         891 non-null    object \n",
      " 4   Sex          891 non-null    object \n",
      " 5   Age          714 non-null    float64\n",
      " 6   SibSp        891 non-null    int64  \n",
      " 7   Parch        891 non-null    int64  \n",
      " 8   Ticket       891 non-null    object \n",
      " 9   Fare         891 non-null    float64\n",
      " 10  Cabin        204 non-null    object \n",
      " 11  Embarked     889 non-null    object \n",
      "dtypes: float64(2), int64(5), object(5)\n",
      "memory usage: 83.7+ KB\n"
     ]
    }
   ],
   "source": [
    "passengers.info()\n",
    "\n",
    "#aquí quiero saber a través de Dtype qué es lo que me conviene usar\n",
    "#creo que podríamos analizar rápidamente las variables de valor\n",
    "#a través de la dispersión de sus valores"
   ]
  },
  {
   "cell_type": "code",
   "execution_count": 7,
   "id": "57357822",
   "metadata": {
    "execution": {
     "iopub.execute_input": "2022-06-26T01:24:35.839538Z",
     "iopub.status.busy": "2022-06-26T01:24:35.839005Z",
     "iopub.status.idle": "2022-06-26T01:24:35.845874Z",
     "shell.execute_reply": "2022-06-26T01:24:35.844900Z"
    },
    "papermill": {
     "duration": 0.028889,
     "end_time": "2022-06-26T01:24:35.848029",
     "exception": false,
     "start_time": "2022-06-26T01:24:35.819140",
     "status": "completed"
    },
    "tags": []
   },
   "outputs": [
    {
     "data": {
      "text/plain": [
       "' \\n*Sugerencias*\\n#PassengerId => demasiados valores dispersos, quitar del df\\n#Name => todos los valores dispersos, no analizar, quitar del df\\n#Ticket => Demasiados dispersos - no analizar, quitar del df\\n#Fare => Demasiado dispersos - no analizar, quitar del df\\n#Cabin => Demasiado dispersos - no analizar, quitar del df\\n\"\"\\n'"
      ]
     },
     "execution_count": 7,
     "metadata": {},
     "output_type": "execute_result"
    }
   ],
   "source": [
    "#Aquí revisé la dispersión de valores sustituyendo los valores en cada columna a considerar en el análisis.\n",
    "\n",
    "passengers.Embarked.value_counts()\n",
    "\n",
    "#Survived => solo dos valores, buen parámetro - analizar\n",
    "#Pclass => buen parámetro - analizar\n",
    "#Sex => pocas variables, buen parámetro - analizar\n",
    "#Age => Relativamente bueno - analizar\n",
    "#SibSp => Buenos valores - analizar\n",
    "#Parch => Buenos valores - analizar\n",
    "#Embarked => Buenos valores para analizar - analizar\n",
    "\n",
    "\"\"\" \n",
    "*Sugerencias*\n",
    "#PassengerId => demasiados valores dispersos, quitar del df\n",
    "#Name => todos los valores dispersos, no analizar, quitar del df\n",
    "#Ticket => Demasiados dispersos - no analizar, quitar del df\n",
    "#Fare => Demasiado dispersos - no analizar, quitar del df\n",
    "#Cabin => Demasiado dispersos - no analizar, quitar del df\n",
    "\"\"\n",
    "\"\"\"\n"
   ]
  },
  {
   "cell_type": "code",
   "execution_count": 8,
   "id": "1c371c34",
   "metadata": {
    "execution": {
     "iopub.execute_input": "2022-06-26T01:24:35.885193Z",
     "iopub.status.busy": "2022-06-26T01:24:35.884827Z",
     "iopub.status.idle": "2022-06-26T01:24:35.903140Z",
     "shell.execute_reply": "2022-06-26T01:24:35.901868Z"
    },
    "papermill": {
     "duration": 0.039642,
     "end_time": "2022-06-26T01:24:35.905508",
     "exception": false,
     "start_time": "2022-06-26T01:24:35.865866",
     "status": "completed"
    },
    "tags": []
   },
   "outputs": [
    {
     "data": {
      "text/html": [
       "<div>\n",
       "<style scoped>\n",
       "    .dataframe tbody tr th:only-of-type {\n",
       "        vertical-align: middle;\n",
       "    }\n",
       "\n",
       "    .dataframe tbody tr th {\n",
       "        vertical-align: top;\n",
       "    }\n",
       "\n",
       "    .dataframe thead th {\n",
       "        text-align: right;\n",
       "    }\n",
       "</style>\n",
       "<table border=\"1\" class=\"dataframe\">\n",
       "  <thead>\n",
       "    <tr style=\"text-align: right;\">\n",
       "      <th></th>\n",
       "      <th>PassengerId</th>\n",
       "      <th>Survived</th>\n",
       "      <th>Pclass</th>\n",
       "      <th>Name</th>\n",
       "      <th>Sex</th>\n",
       "      <th>Age</th>\n",
       "      <th>SibSp</th>\n",
       "      <th>Parch</th>\n",
       "      <th>Ticket</th>\n",
       "      <th>Fare</th>\n",
       "      <th>Cabin</th>\n",
       "      <th>Embarked</th>\n",
       "    </tr>\n",
       "  </thead>\n",
       "  <tbody>\n",
       "    <tr>\n",
       "      <th>5</th>\n",
       "      <td>6</td>\n",
       "      <td>0</td>\n",
       "      <td>3</td>\n",
       "      <td>Moran, Mr. James</td>\n",
       "      <td>male</td>\n",
       "      <td>NaN</td>\n",
       "      <td>0</td>\n",
       "      <td>0</td>\n",
       "      <td>330877</td>\n",
       "      <td>8.4583</td>\n",
       "      <td>NaN</td>\n",
       "      <td>Q</td>\n",
       "    </tr>\n",
       "    <tr>\n",
       "      <th>17</th>\n",
       "      <td>18</td>\n",
       "      <td>1</td>\n",
       "      <td>2</td>\n",
       "      <td>Williams, Mr. Charles Eugene</td>\n",
       "      <td>male</td>\n",
       "      <td>NaN</td>\n",
       "      <td>0</td>\n",
       "      <td>0</td>\n",
       "      <td>244373</td>\n",
       "      <td>13.0000</td>\n",
       "      <td>NaN</td>\n",
       "      <td>S</td>\n",
       "    </tr>\n",
       "    <tr>\n",
       "      <th>19</th>\n",
       "      <td>20</td>\n",
       "      <td>1</td>\n",
       "      <td>3</td>\n",
       "      <td>Masselmani, Mrs. Fatima</td>\n",
       "      <td>female</td>\n",
       "      <td>NaN</td>\n",
       "      <td>0</td>\n",
       "      <td>0</td>\n",
       "      <td>2649</td>\n",
       "      <td>7.2250</td>\n",
       "      <td>NaN</td>\n",
       "      <td>C</td>\n",
       "    </tr>\n",
       "    <tr>\n",
       "      <th>26</th>\n",
       "      <td>27</td>\n",
       "      <td>0</td>\n",
       "      <td>3</td>\n",
       "      <td>Emir, Mr. Farred Chehab</td>\n",
       "      <td>male</td>\n",
       "      <td>NaN</td>\n",
       "      <td>0</td>\n",
       "      <td>0</td>\n",
       "      <td>2631</td>\n",
       "      <td>7.2250</td>\n",
       "      <td>NaN</td>\n",
       "      <td>C</td>\n",
       "    </tr>\n",
       "    <tr>\n",
       "      <th>28</th>\n",
       "      <td>29</td>\n",
       "      <td>1</td>\n",
       "      <td>3</td>\n",
       "      <td>O'Dwyer, Miss. Ellen \"Nellie\"</td>\n",
       "      <td>female</td>\n",
       "      <td>NaN</td>\n",
       "      <td>0</td>\n",
       "      <td>0</td>\n",
       "      <td>330959</td>\n",
       "      <td>7.8792</td>\n",
       "      <td>NaN</td>\n",
       "      <td>Q</td>\n",
       "    </tr>\n",
       "  </tbody>\n",
       "</table>\n",
       "</div>"
      ],
      "text/plain": [
       "    PassengerId  Survived  Pclass                           Name     Sex  Age  \\\n",
       "5             6         0       3               Moran, Mr. James    male  NaN   \n",
       "17           18         1       2   Williams, Mr. Charles Eugene    male  NaN   \n",
       "19           20         1       3        Masselmani, Mrs. Fatima  female  NaN   \n",
       "26           27         0       3        Emir, Mr. Farred Chehab    male  NaN   \n",
       "28           29         1       3  O'Dwyer, Miss. Ellen \"Nellie\"  female  NaN   \n",
       "\n",
       "    SibSp  Parch  Ticket     Fare Cabin Embarked  \n",
       "5       0      0  330877   8.4583   NaN        Q  \n",
       "17      0      0  244373  13.0000   NaN        S  \n",
       "19      0      0    2649   7.2250   NaN        C  \n",
       "26      0      0    2631   7.2250   NaN        C  \n",
       "28      0      0  330959   7.8792   NaN        Q  "
      ]
     },
     "execution_count": 8,
     "metadata": {},
     "output_type": "execute_result"
    }
   ],
   "source": [
    "pop_nan = passengers[\"Age\"].isna()\n",
    "passengers[pop_nan].head()\n",
    "\n",
    "#de todos modos dejé lo que pienso no analizar"
   ]
  },
  {
   "cell_type": "code",
   "execution_count": 9,
   "id": "ade308e7",
   "metadata": {
    "execution": {
     "iopub.execute_input": "2022-06-26T01:24:35.944697Z",
     "iopub.status.busy": "2022-06-26T01:24:35.944306Z",
     "iopub.status.idle": "2022-06-26T01:24:35.963064Z",
     "shell.execute_reply": "2022-06-26T01:24:35.962404Z"
    },
    "papermill": {
     "duration": 0.040431,
     "end_time": "2022-06-26T01:24:35.964852",
     "exception": false,
     "start_time": "2022-06-26T01:24:35.924421",
     "status": "completed"
    },
    "tags": []
   },
   "outputs": [
    {
     "data": {
      "text/html": [
       "<div>\n",
       "<style scoped>\n",
       "    .dataframe tbody tr th:only-of-type {\n",
       "        vertical-align: middle;\n",
       "    }\n",
       "\n",
       "    .dataframe tbody tr th {\n",
       "        vertical-align: top;\n",
       "    }\n",
       "\n",
       "    .dataframe thead th {\n",
       "        text-align: right;\n",
       "    }\n",
       "</style>\n",
       "<table border=\"1\" class=\"dataframe\">\n",
       "  <thead>\n",
       "    <tr style=\"text-align: right;\">\n",
       "      <th></th>\n",
       "      <th>PassengerId</th>\n",
       "      <th>Survived</th>\n",
       "      <th>Pclass</th>\n",
       "      <th>Age</th>\n",
       "      <th>SibSp</th>\n",
       "      <th>Parch</th>\n",
       "      <th>Fare</th>\n",
       "    </tr>\n",
       "  </thead>\n",
       "  <tbody>\n",
       "    <tr>\n",
       "      <th>PassengerId</th>\n",
       "      <td>1.000000</td>\n",
       "      <td>-0.005007</td>\n",
       "      <td>-0.035144</td>\n",
       "      <td>0.036847</td>\n",
       "      <td>-0.057527</td>\n",
       "      <td>-0.001652</td>\n",
       "      <td>0.012658</td>\n",
       "    </tr>\n",
       "    <tr>\n",
       "      <th>Survived</th>\n",
       "      <td>-0.005007</td>\n",
       "      <td>1.000000</td>\n",
       "      <td>-0.338481</td>\n",
       "      <td>-0.077221</td>\n",
       "      <td>-0.035322</td>\n",
       "      <td>0.081629</td>\n",
       "      <td>0.257307</td>\n",
       "    </tr>\n",
       "    <tr>\n",
       "      <th>Pclass</th>\n",
       "      <td>-0.035144</td>\n",
       "      <td>-0.338481</td>\n",
       "      <td>1.000000</td>\n",
       "      <td>-0.369226</td>\n",
       "      <td>0.083081</td>\n",
       "      <td>0.018443</td>\n",
       "      <td>-0.549500</td>\n",
       "    </tr>\n",
       "    <tr>\n",
       "      <th>Age</th>\n",
       "      <td>0.036847</td>\n",
       "      <td>-0.077221</td>\n",
       "      <td>-0.369226</td>\n",
       "      <td>1.000000</td>\n",
       "      <td>-0.308247</td>\n",
       "      <td>-0.189119</td>\n",
       "      <td>0.096067</td>\n",
       "    </tr>\n",
       "    <tr>\n",
       "      <th>SibSp</th>\n",
       "      <td>-0.057527</td>\n",
       "      <td>-0.035322</td>\n",
       "      <td>0.083081</td>\n",
       "      <td>-0.308247</td>\n",
       "      <td>1.000000</td>\n",
       "      <td>0.414838</td>\n",
       "      <td>0.159651</td>\n",
       "    </tr>\n",
       "    <tr>\n",
       "      <th>Parch</th>\n",
       "      <td>-0.001652</td>\n",
       "      <td>0.081629</td>\n",
       "      <td>0.018443</td>\n",
       "      <td>-0.189119</td>\n",
       "      <td>0.414838</td>\n",
       "      <td>1.000000</td>\n",
       "      <td>0.216225</td>\n",
       "    </tr>\n",
       "    <tr>\n",
       "      <th>Fare</th>\n",
       "      <td>0.012658</td>\n",
       "      <td>0.257307</td>\n",
       "      <td>-0.549500</td>\n",
       "      <td>0.096067</td>\n",
       "      <td>0.159651</td>\n",
       "      <td>0.216225</td>\n",
       "      <td>1.000000</td>\n",
       "    </tr>\n",
       "  </tbody>\n",
       "</table>\n",
       "</div>"
      ],
      "text/plain": [
       "             PassengerId  Survived    Pclass       Age     SibSp     Parch  \\\n",
       "PassengerId     1.000000 -0.005007 -0.035144  0.036847 -0.057527 -0.001652   \n",
       "Survived       -0.005007  1.000000 -0.338481 -0.077221 -0.035322  0.081629   \n",
       "Pclass         -0.035144 -0.338481  1.000000 -0.369226  0.083081  0.018443   \n",
       "Age             0.036847 -0.077221 -0.369226  1.000000 -0.308247 -0.189119   \n",
       "SibSp          -0.057527 -0.035322  0.083081 -0.308247  1.000000  0.414838   \n",
       "Parch          -0.001652  0.081629  0.018443 -0.189119  0.414838  1.000000   \n",
       "Fare            0.012658  0.257307 -0.549500  0.096067  0.159651  0.216225   \n",
       "\n",
       "                 Fare  \n",
       "PassengerId  0.012658  \n",
       "Survived     0.257307  \n",
       "Pclass      -0.549500  \n",
       "Age          0.096067  \n",
       "SibSp        0.159651  \n",
       "Parch        0.216225  \n",
       "Fare         1.000000  "
      ]
     },
     "execution_count": 9,
     "metadata": {},
     "output_type": "execute_result"
    }
   ],
   "source": [
    "passengers.corr()"
   ]
  },
  {
   "cell_type": "code",
   "execution_count": 10,
   "id": "ad7acce9",
   "metadata": {
    "execution": {
     "iopub.execute_input": "2022-06-26T01:24:36.002951Z",
     "iopub.status.busy": "2022-06-26T01:24:36.002481Z",
     "iopub.status.idle": "2022-06-26T01:24:36.207296Z",
     "shell.execute_reply": "2022-06-26T01:24:36.206321Z"
    },
    "papermill": {
     "duration": 0.227171,
     "end_time": "2022-06-26T01:24:36.210485",
     "exception": false,
     "start_time": "2022-06-26T01:24:35.983314",
     "status": "completed"
    },
    "tags": []
   },
   "outputs": [
    {
     "data": {
      "text/plain": [
       "<AxesSubplot:>"
      ]
     },
     "execution_count": 10,
     "metadata": {},
     "output_type": "execute_result"
    },
    {
     "data": {
      "image/png": "[encoded data removed]",
      "text/plain": [
       "<Figure size 432x288 with 2 Axes>"
      ]
     },
     "metadata": {
      "needs_background": "light"
     },
     "output_type": "display_data"
    }
   ],
   "source": [
    "sns.heatmap(passengers.corr())"
   ]
  },
  {
   "cell_type": "code",
   "execution_count": 11,
   "id": "fc7269ae",
   "metadata": {
    "execution": {
     "iopub.execute_input": "2022-06-26T01:24:36.250592Z",
     "iopub.status.busy": "2022-06-26T01:24:36.250276Z",
     "iopub.status.idle": "2022-06-26T01:24:36.605302Z",
     "shell.execute_reply": "2022-06-26T01:24:36.603970Z"
    },
    "papermill": {
     "duration": 0.377833,
     "end_time": "2022-06-26T01:24:36.607737",
     "exception": false,
     "start_time": "2022-06-26T01:24:36.229904",
     "status": "completed"
    },
    "tags": []
   },
   "outputs": [
    {
     "data": {
      "text/plain": [
       "<AxesSubplot:>"
      ]
     },
     "execution_count": 11,
     "metadata": {},
     "output_type": "execute_result"
    },
    {
     "data": {
      "image/png": "[encoded data removed]",
      "text/plain": [
       "<Figure size 1152x432 with 2 Axes>"
      ]
     },
     "metadata": {
      "needs_background": "light"
     },
     "output_type": "display_data"
    }
   ],
   "source": [
    "plt.figure(figsize=(16, 6))\n",
    "sns.heatmap(passengers.corr(), vmin=-1, vmax=1, annot=True)\n",
    "\n",
    "#Quiser ver las correlaciones, \n",
    "#hay una fuerte correlación con la gente que estaba \n",
    "#en primera clase y sobrevivió"
   ]
  },
  {
   "cell_type": "markdown",
   "id": "85054701",
   "metadata": {
    "papermill": {
     "duration": 0.019634,
     "end_time": "2022-06-26T01:24:36.647275",
     "exception": false,
     "start_time": "2022-06-26T01:24:36.627641",
     "status": "completed"
    },
    "tags": []
   },
   "source": [
    "# **2**"
   ]
  },
  {
   "cell_type": "code",
   "execution_count": 12,
   "id": "10bab135",
   "metadata": {
    "execution": {
     "iopub.execute_input": "2022-06-26T01:24:36.688723Z",
     "iopub.status.busy": "2022-06-26T01:24:36.688331Z",
     "iopub.status.idle": "2022-06-26T01:24:36.695417Z",
     "shell.execute_reply": "2022-06-26T01:24:36.694445Z"
    },
    "papermill": {
     "duration": 0.030168,
     "end_time": "2022-06-26T01:24:36.697308",
     "exception": false,
     "start_time": "2022-06-26T01:24:36.667140",
     "status": "completed"
    },
    "tags": []
   },
   "outputs": [],
   "source": [
    "passengers['Sex'] = passengers['Sex'].map({'male': 0,'female': 1})\n",
    "\n",
    "\n",
    "#también lo intenté así, pero no me salió: \n",
    "#genderMap = {\"male\": 0, \"female\": 1}\n",
    "#data = [passengers]\n",
    "\n",
    "#encontré esto en internet pero quise darle más tiempo después...\n",
    "#for dataset in data:\n",
    "#dataset['Sex'] = dataset['Sex'].map(genderMap)\n",
    "\n",
    "#el dato de hasta arriba fue el que dejé al final"
   ]
  },
  {
   "cell_type": "code",
   "execution_count": 13,
   "id": "10b240ce",
   "metadata": {
    "execution": {
     "iopub.execute_input": "2022-06-26T01:24:36.737206Z",
     "iopub.status.busy": "2022-06-26T01:24:36.736957Z",
     "iopub.status.idle": "2022-06-26T01:24:36.743025Z",
     "shell.execute_reply": "2022-06-26T01:24:36.742275Z"
    },
    "papermill": {
     "duration": 0.028162,
     "end_time": "2022-06-26T01:24:36.745101",
     "exception": false,
     "start_time": "2022-06-26T01:24:36.716939",
     "status": "completed"
    },
    "tags": []
   },
   "outputs": [
    {
     "data": {
      "text/plain": [
       "0    577\n",
       "1    314\n",
       "Name: Sex, dtype: int64"
      ]
     },
     "execution_count": 13,
     "metadata": {},
     "output_type": "execute_result"
    }
   ],
   "source": [
    "passengers['Sex'].value_counts()\n",
    "\n",
    "#577 hombres\n",
    "#314 mujeres"
   ]
  },
  {
   "cell_type": "markdown",
   "id": "9aecc53c",
   "metadata": {
    "papermill": {
     "duration": 0.019102,
     "end_time": "2022-06-26T01:24:36.784366",
     "exception": false,
     "start_time": "2022-06-26T01:24:36.765264",
     "status": "completed"
    },
    "tags": []
   },
   "source": [
    "# **3**"
   ]
  },
  {
   "cell_type": "code",
   "execution_count": 14,
   "id": "78cbb8cf",
   "metadata": {
    "execution": {
     "iopub.execute_input": "2022-06-26T01:24:36.825418Z",
     "iopub.status.busy": "2022-06-26T01:24:36.824414Z",
     "iopub.status.idle": "2022-06-26T01:24:36.842218Z",
     "shell.execute_reply": "2022-06-26T01:24:36.841533Z"
    },
    "papermill": {
     "duration": 0.040616,
     "end_time": "2022-06-26T01:24:36.844173",
     "exception": false,
     "start_time": "2022-06-26T01:24:36.803557",
     "status": "completed"
    },
    "tags": []
   },
   "outputs": [
    {
     "data": {
      "text/plain": [
       "array([22.  , 38.  , 26.  , 35.  , 35.  ,   nan, 54.  ,  2.  , 27.  ,\n",
       "       14.  ,  4.  , 58.  , 20.  , 39.  , 14.  , 55.  ,  2.  ,   nan,\n",
       "       31.  ,   nan, 35.  , 34.  , 15.  , 28.  ,  8.  , 38.  ,   nan,\n",
       "       19.  ,   nan,   nan, 40.  ,   nan,   nan, 66.  , 28.  , 42.  ,\n",
       "         nan, 21.  , 18.  , 14.  , 40.  , 27.  ,   nan,  3.  , 19.  ,\n",
       "         nan,   nan,   nan,   nan, 18.  ,  7.  , 21.  , 49.  , 29.  ,\n",
       "       65.  ,   nan, 21.  , 28.5 ,  5.  , 11.  , 22.  , 38.  , 45.  ,\n",
       "        4.  ,   nan,   nan, 29.  , 19.  , 17.  , 26.  , 32.  , 16.  ,\n",
       "       21.  , 26.  , 32.  , 25.  ,   nan,   nan,  0.83, 30.  , 22.  ,\n",
       "       29.  ,   nan, 28.  , 17.  , 33.  , 16.  ,   nan, 23.  , 24.  ,\n",
       "       29.  , 20.  , 46.  , 26.  , 59.  ,   nan, 71.  , 23.  , 34.  ,\n",
       "       34.  , 28.  ,   nan, 21.  , 33.  , 37.  , 28.  , 21.  ,   nan,\n",
       "       38.  ,   nan, 47.  , 14.5 , 22.  , 20.  , 17.  , 21.  , 70.5 ,\n",
       "       29.  , 24.  ,  2.  , 21.  ,   nan, 32.5 , 32.5 , 54.  , 12.  ,\n",
       "         nan, 24.  ,   nan, 45.  , 33.  , 20.  , 47.  , 29.  , 25.  ,\n",
       "       23.  , 19.  , 37.  , 16.  , 24.  ,   nan, 22.  , 24.  , 19.  ,\n",
       "       18.  , 19.  , 27.  ,  9.  , 36.5 , 42.  , 51.  , 22.  , 55.5 ,\n",
       "       40.5 ,   nan, 51.  , 16.  , 30.  ,   nan,   nan, 44.  , 40.  ,\n",
       "       26.  , 17.  ,  1.  ,  9.  ,   nan, 45.  ,   nan, 28.  , 61.  ,\n",
       "        4.  ,  1.  , 21.  , 56.  , 18.  ,   nan, 50.  , 30.  , 36.  ,\n",
       "         nan,   nan,  9.  ,  1.  ,  4.  ,   nan,   nan, 45.  , 40.  ,\n",
       "       36.  , 32.  , 19.  , 19.  ,  3.  , 44.  , 58.  ,   nan, 42.  ,\n",
       "         nan, 24.  , 28.  ,   nan, 34.  , 45.5 , 18.  ,  2.  , 32.  ,\n",
       "       26.  , 16.  , 40.  , 24.  , 35.  , 22.  , 30.  ,   nan, 31.  ,\n",
       "       27.  , 42.  , 32.  , 30.  , 16.  , 27.  , 51.  ,   nan, 38.  ,\n",
       "       22.  , 19.  , 20.5 , 18.  ,   nan, 35.  , 29.  , 59.  ,  5.  ,\n",
       "       24.  ,   nan, 44.  ,  8.  , 19.  , 33.  ,   nan,   nan, 29.  ,\n",
       "       22.  , 30.  , 44.  , 25.  , 24.  , 37.  , 54.  ,   nan, 29.  ,\n",
       "       62.  , 30.  , 41.  , 29.  ,   nan, 30.  , 35.  , 50.  ,   nan,\n",
       "        3.  , 52.  , 40.  ,   nan, 36.  , 16.  , 25.  , 58.  , 35.  ,\n",
       "         nan, 25.  , 41.  , 37.  ,   nan, 63.  , 45.  ,   nan,  7.  ,\n",
       "       35.  , 65.  , 28.  , 16.  , 19.  ,   nan, 33.  , 30.  , 22.  ,\n",
       "       42.  , 22.  , 26.  , 19.  , 36.  , 24.  , 24.  ,   nan, 23.5 ,\n",
       "        2.  ,   nan, 50.  ,   nan,   nan, 19.  ,   nan,   nan,  0.92,\n",
       "         nan, 17.  , 30.  , 30.  , 24.  , 18.  , 26.  , 28.  , 43.  ,\n",
       "       26.  , 24.  , 54.  , 31.  , 40.  , 22.  , 27.  , 30.  , 22.  ,\n",
       "         nan, 36.  , 61.  , 36.  , 31.  , 16.  ,   nan, 45.5 , 38.  ,\n",
       "       16.  ,   nan,   nan, 29.  , 41.  , 45.  , 45.  ,  2.  , 24.  ,\n",
       "       28.  , 25.  , 36.  , 24.  , 40.  ,   nan,  3.  , 42.  , 23.  ,\n",
       "         nan, 15.  , 25.  ,   nan, 28.  , 22.  , 38.  ,   nan,   nan,\n",
       "       40.  , 29.  , 45.  , 35.  ,   nan, 30.  , 60.  ,   nan,   nan,\n",
       "       24.  , 25.  , 18.  , 19.  , 22.  ,  3.  ,   nan, 22.  , 27.  ,\n",
       "       20.  , 19.  , 42.  ,  1.  , 32.  , 35.  ,   nan, 18.  ,  1.  ,\n",
       "       36.  ,   nan, 17.  , 36.  , 21.  , 28.  , 23.  , 24.  , 22.  ,\n",
       "       31.  , 46.  , 23.  , 28.  , 39.  , 26.  , 21.  , 28.  , 20.  ,\n",
       "       34.  , 51.  ,  3.  , 21.  ,   nan,   nan,   nan, 33.  ,   nan,\n",
       "       44.  ,   nan, 34.  , 18.  , 30.  , 10.  ,   nan, 21.  , 29.  ,\n",
       "       28.  , 18.  ,   nan, 28.  , 19.  ,   nan, 32.  , 28.  ,   nan,\n",
       "       42.  , 17.  , 50.  , 14.  , 21.  , 24.  , 64.  , 31.  , 45.  ,\n",
       "       20.  , 25.  , 28.  ,   nan,  4.  , 13.  , 34.  ,  5.  , 52.  ,\n",
       "       36.  ,   nan, 30.  , 49.  ,   nan, 29.  , 65.  ,   nan, 50.  ,\n",
       "         nan, 48.  , 34.  , 47.  , 48.  ,   nan, 38.  ,   nan, 56.  ,\n",
       "         nan,  0.75,   nan, 38.  , 33.  , 23.  , 22.  ,   nan, 34.  ,\n",
       "       29.  , 22.  ,  2.  ,  9.  ,   nan, 50.  , 63.  , 25.  ,   nan,\n",
       "       35.  , 58.  , 30.  ,  9.  ,   nan, 21.  , 55.  , 71.  , 21.  ,\n",
       "         nan, 54.  ,   nan, 25.  , 24.  , 17.  , 21.  ,   nan, 37.  ,\n",
       "       16.  , 18.  , 33.  ,   nan, 28.  , 26.  , 29.  ,   nan, 36.  ,\n",
       "       54.  , 24.  , 47.  , 34.  ,   nan, 36.  , 32.  , 30.  , 22.  ,\n",
       "         nan, 44.  ,   nan, 40.5 , 50.  ,   nan, 39.  , 23.  ,  2.  ,\n",
       "         nan, 17.  ,   nan, 30.  ,  7.  , 45.  , 30.  ,   nan, 22.  ,\n",
       "       36.  ,  9.  , 11.  , 32.  , 50.  , 64.  , 19.  ,   nan, 33.  ,\n",
       "        8.  , 17.  , 27.  ,   nan, 22.  , 22.  , 62.  , 48.  ,   nan,\n",
       "       39.  , 36.  ,   nan, 40.  , 28.  ,   nan,   nan, 24.  , 19.  ,\n",
       "       29.  ,   nan, 32.  , 62.  , 53.  , 36.  ,   nan, 16.  , 19.  ,\n",
       "       34.  , 39.  ,   nan, 32.  , 25.  , 39.  , 54.  , 36.  ,   nan,\n",
       "       18.  , 47.  , 60.  , 22.  ,   nan, 35.  , 52.  , 47.  ,   nan,\n",
       "       37.  , 36.  ,   nan, 49.  ,   nan, 49.  , 24.  ,   nan,   nan,\n",
       "       44.  , 35.  , 36.  , 30.  , 27.  , 22.  , 40.  , 39.  ,   nan,\n",
       "         nan,   nan, 35.  , 24.  , 34.  , 26.  ,  4.  , 26.  , 27.  ,\n",
       "       42.  , 20.  , 21.  , 21.  , 61.  , 57.  , 21.  , 26.  ,   nan,\n",
       "       80.  , 51.  , 32.  ,   nan,  9.  , 28.  , 32.  , 31.  , 41.  ,\n",
       "         nan, 20.  , 24.  ,  2.  ,   nan,  0.75, 48.  , 19.  , 56.  ,\n",
       "         nan, 23.  ,   nan, 18.  , 21.  ,   nan, 18.  , 24.  ,   nan,\n",
       "       32.  , 23.  , 58.  , 50.  , 40.  , 47.  , 36.  , 20.  , 32.  ,\n",
       "       25.  ,   nan, 43.  ,   nan, 40.  , 31.  , 70.  , 31.  ,   nan,\n",
       "       18.  , 24.5 , 18.  , 43.  , 36.  ,   nan, 27.  , 20.  , 14.  ,\n",
       "       60.  , 25.  , 14.  , 19.  , 18.  , 15.  , 31.  ,  4.  ,   nan,\n",
       "       25.  , 60.  , 52.  , 44.  ,   nan, 49.  , 42.  , 18.  , 35.  ,\n",
       "       18.  , 25.  , 26.  , 39.  , 45.  , 42.  , 22.  ,   nan, 24.  ,\n",
       "         nan, 48.  , 29.  , 52.  , 19.  , 38.  , 27.  ,   nan, 33.  ,\n",
       "        6.  , 17.  , 34.  , 50.  , 27.  , 20.  , 30.  ,   nan, 25.  ,\n",
       "       25.  , 29.  , 11.  ,   nan, 23.  , 23.  , 28.5 , 48.  , 35.  ,\n",
       "         nan,   nan,   nan, 36.  , 21.  , 24.  , 31.  , 70.  , 16.  ,\n",
       "       30.  , 19.  , 31.  ,  4.  ,  6.  , 33.  , 23.  , 48.  ,  0.67,\n",
       "       28.  , 18.  , 34.  , 33.  ,   nan, 41.  , 20.  , 36.  , 16.  ,\n",
       "       51.  ,   nan, 30.5 ,   nan, 32.  , 24.  , 48.  , 57.  ,   nan,\n",
       "       54.  , 18.  ,   nan,  5.  ,   nan, 43.  , 13.  , 17.  , 29.  ,\n",
       "         nan, 25.  , 25.  , 18.  ,  8.  ,  1.  , 46.  ,   nan, 16.  ,\n",
       "         nan,   nan, 25.  , 39.  , 49.  , 31.  , 30.  , 30.  , 34.  ,\n",
       "       31.  , 11.  ,  0.42, 27.  , 31.  , 39.  , 18.  , 39.  , 33.  ,\n",
       "       26.  , 39.  , 35.  ,  6.  , 30.5 ,   nan, 23.  , 31.  , 43.  ,\n",
       "       10.  , 52.  , 27.  , 38.  , 27.  ,  2.  ,   nan,   nan,  1.  ,\n",
       "         nan, 62.  , 15.  ,  0.83,   nan, 23.  , 18.  , 39.  , 21.  ,\n",
       "         nan, 32.  ,   nan, 20.  , 16.  , 30.  , 34.5 , 17.  , 42.  ,\n",
       "         nan, 35.  , 28.  ,   nan,  4.  , 74.  ,  9.  , 16.  , 44.  ,\n",
       "       18.  , 45.  , 51.  , 24.  ,   nan, 41.  , 21.  , 48.  ,   nan,\n",
       "       24.  , 42.  , 27.  , 31.  ,   nan,  4.  , 26.  , 47.  , 33.  ,\n",
       "       47.  , 28.  , 15.  , 20.  , 19.  ,   nan, 56.  , 25.  , 33.  ,\n",
       "       22.  , 28.  , 25.  , 39.  , 27.  , 19.  ,   nan, 26.  , 32.  ])"
      ]
     },
     "execution_count": 14,
     "metadata": {},
     "output_type": "execute_result"
    }
   ],
   "source": [
    "passengers['Age'].values"
   ]
  },
  {
   "cell_type": "code",
   "execution_count": 15,
   "id": "0133cb63",
   "metadata": {
    "execution": {
     "iopub.execute_input": "2022-06-26T01:24:36.886124Z",
     "iopub.status.busy": "2022-06-26T01:24:36.885165Z",
     "iopub.status.idle": "2022-06-26T01:24:37.696202Z",
     "shell.execute_reply": "2022-06-26T01:24:37.694993Z"
    },
    "papermill": {
     "duration": 0.83408,
     "end_time": "2022-06-26T01:24:37.698407",
     "exception": false,
     "start_time": "2022-06-26T01:24:36.864327",
     "status": "completed"
    },
    "tags": []
   },
   "outputs": [
    {
     "data": {
      "text/plain": [
       "<AxesSubplot:>"
      ]
     },
     "execution_count": 15,
     "metadata": {},
     "output_type": "execute_result"
    },
    {
     "data": {
      "image/png": "[encoded data removed]",
      "text/plain": [
       "<Figure size 432x288 with 1 Axes>"
      ]
     },
     "metadata": {
      "needs_background": "light"
     },
     "output_type": "display_data"
    }
   ],
   "source": [
    "passengers[\"Age\"].value_counts().plot(kind='bar')"
   ]
  },
  {
   "cell_type": "code",
   "execution_count": 16,
   "id": "856b799d",
   "metadata": {
    "execution": {
     "iopub.execute_input": "2022-06-26T01:24:37.740638Z",
     "iopub.status.busy": "2022-06-26T01:24:37.740331Z",
     "iopub.status.idle": "2022-06-26T01:24:37.745281Z",
     "shell.execute_reply": "2022-06-26T01:24:37.744105Z"
    },
    "papermill": {
     "duration": 0.028522,
     "end_time": "2022-06-26T01:24:37.747461",
     "exception": false,
     "start_time": "2022-06-26T01:24:37.718939",
     "status": "completed"
    },
    "tags": []
   },
   "outputs": [],
   "source": [
    "mean_Age=passengers['Age'].mean()"
   ]
  },
  {
   "cell_type": "code",
   "execution_count": 17,
   "id": "0d495e4d",
   "metadata": {
    "execution": {
     "iopub.execute_input": "2022-06-26T01:24:37.789855Z",
     "iopub.status.busy": "2022-06-26T01:24:37.789537Z",
     "iopub.status.idle": "2022-06-26T01:24:37.797699Z",
     "shell.execute_reply": "2022-06-26T01:24:37.796619Z"
    },
    "papermill": {
     "duration": 0.031842,
     "end_time": "2022-06-26T01:24:37.799891",
     "exception": false,
     "start_time": "2022-06-26T01:24:37.768049",
     "status": "completed"
    },
    "tags": []
   },
   "outputs": [
    {
     "data": {
      "text/plain": [
       "array([22.        , 38.        , 26.        , 35.        , 29.69911765,\n",
       "       54.        ,  2.        , 27.        , 14.        ,  4.        ,\n",
       "       58.        , 20.        , 39.        , 55.        , 31.        ,\n",
       "       34.        , 15.        , 28.        ,  8.        , 19.        ,\n",
       "       40.        , 66.        , 42.        , 21.        , 18.        ,\n",
       "        3.        ,  7.        , 49.        , 29.        , 65.        ,\n",
       "       28.5       ,  5.        , 11.        , 45.        , 17.        ,\n",
       "       32.        , 16.        , 25.        ,  0.83      , 30.        ,\n",
       "       33.        , 23.        , 24.        , 46.        , 59.        ,\n",
       "       71.        , 37.        , 47.        , 14.5       , 70.5       ,\n",
       "       32.5       , 12.        ,  9.        , 36.5       , 51.        ,\n",
       "       55.5       , 40.5       , 44.        ,  1.        , 61.        ,\n",
       "       56.        , 50.        , 36.        , 45.5       , 20.5       ,\n",
       "       62.        , 41.        , 52.        , 63.        , 23.5       ,\n",
       "        0.92      , 43.        , 60.        , 10.        , 64.        ,\n",
       "       13.        , 48.        ,  0.75      , 53.        , 57.        ,\n",
       "       80.        , 70.        , 24.5       ,  6.        ,  0.67      ,\n",
       "       30.5       ,  0.42      , 34.5       , 74.        ])"
      ]
     },
     "execution_count": 17,
     "metadata": {},
     "output_type": "execute_result"
    }
   ],
   "source": [
    "passengers['Age'].fillna(value=mean_Age, inplace=True)\n",
    "passengers['Age'].unique()"
   ]
  },
  {
   "cell_type": "markdown",
   "id": "defb8954",
   "metadata": {
    "papermill": {
     "duration": 0.020322,
     "end_time": "2022-06-26T01:24:37.840765",
     "exception": false,
     "start_time": "2022-06-26T01:24:37.820443",
     "status": "completed"
    },
    "tags": []
   },
   "source": [
    "# **4 y 5**"
   ]
  },
  {
   "cell_type": "code",
   "execution_count": 18,
   "id": "ac97b63b",
   "metadata": {
    "execution": {
     "iopub.execute_input": "2022-06-26T01:24:37.882737Z",
     "iopub.status.busy": "2022-06-26T01:24:37.882429Z",
     "iopub.status.idle": "2022-06-26T01:24:37.887309Z",
     "shell.execute_reply": "2022-06-26T01:24:37.886210Z"
    },
    "papermill": {
     "duration": 0.028555,
     "end_time": "2022-06-26T01:24:37.889509",
     "exception": false,
     "start_time": "2022-06-26T01:24:37.860954",
     "status": "completed"
    },
    "tags": []
   },
   "outputs": [],
   "source": [
    "dummies = pd.get_dummies(passengers.Pclass)"
   ]
  },
  {
   "cell_type": "code",
   "execution_count": 19,
   "id": "bf0a0096",
   "metadata": {
    "execution": {
     "iopub.execute_input": "2022-06-26T01:24:37.933065Z",
     "iopub.status.busy": "2022-06-26T01:24:37.932361Z",
     "iopub.status.idle": "2022-06-26T01:24:37.937120Z",
     "shell.execute_reply": "2022-06-26T01:24:37.936394Z"
    },
    "papermill": {
     "duration": 0.028633,
     "end_time": "2022-06-26T01:24:37.939041",
     "exception": false,
     "start_time": "2022-06-26T01:24:37.910408",
     "status": "completed"
    },
    "tags": []
   },
   "outputs": [],
   "source": [
    "dummies.columns = ['FirstClass', 'SecondClass', 'ThirdClass']"
   ]
  },
  {
   "cell_type": "code",
   "execution_count": 20,
   "id": "817e79ce",
   "metadata": {
    "execution": {
     "iopub.execute_input": "2022-06-26T01:24:37.982299Z",
     "iopub.status.busy": "2022-06-26T01:24:37.982010Z",
     "iopub.status.idle": "2022-06-26T01:24:37.995671Z",
     "shell.execute_reply": "2022-06-26T01:24:37.994138Z"
    },
    "papermill": {
     "duration": 0.03844,
     "end_time": "2022-06-26T01:24:37.998095",
     "exception": false,
     "start_time": "2022-06-26T01:24:37.959655",
     "status": "completed"
    },
    "tags": []
   },
   "outputs": [
    {
     "data": {
      "text/html": [
       "<div>\n",
       "<style scoped>\n",
       "    .dataframe tbody tr th:only-of-type {\n",
       "        vertical-align: middle;\n",
       "    }\n",
       "\n",
       "    .dataframe tbody tr th {\n",
       "        vertical-align: top;\n",
       "    }\n",
       "\n",
       "    .dataframe thead th {\n",
       "        text-align: right;\n",
       "    }\n",
       "</style>\n",
       "<table border=\"1\" class=\"dataframe\">\n",
       "  <thead>\n",
       "    <tr style=\"text-align: right;\">\n",
       "      <th></th>\n",
       "      <th>PassengerId</th>\n",
       "      <th>Survived</th>\n",
       "      <th>Pclass</th>\n",
       "      <th>Name</th>\n",
       "      <th>Sex</th>\n",
       "      <th>Age</th>\n",
       "      <th>SibSp</th>\n",
       "      <th>Parch</th>\n",
       "      <th>Ticket</th>\n",
       "      <th>Fare</th>\n",
       "      <th>Cabin</th>\n",
       "      <th>Embarked</th>\n",
       "    </tr>\n",
       "  </thead>\n",
       "  <tbody>\n",
       "    <tr>\n",
       "      <th>0</th>\n",
       "      <td>1</td>\n",
       "      <td>0</td>\n",
       "      <td>3</td>\n",
       "      <td>Braund, Mr. Owen Harris</td>\n",
       "      <td>0</td>\n",
       "      <td>22.0</td>\n",
       "      <td>1</td>\n",
       "      <td>0</td>\n",
       "      <td>A/5 21171</td>\n",
       "      <td>7.2500</td>\n",
       "      <td>NaN</td>\n",
       "      <td>S</td>\n",
       "    </tr>\n",
       "    <tr>\n",
       "      <th>1</th>\n",
       "      <td>2</td>\n",
       "      <td>1</td>\n",
       "      <td>1</td>\n",
       "      <td>Cumings, Mrs. John Bradley (Florence Briggs Th...</td>\n",
       "      <td>1</td>\n",
       "      <td>38.0</td>\n",
       "      <td>1</td>\n",
       "      <td>0</td>\n",
       "      <td>PC 17599</td>\n",
       "      <td>71.2833</td>\n",
       "      <td>C85</td>\n",
       "      <td>C</td>\n",
       "    </tr>\n",
       "    <tr>\n",
       "      <th>2</th>\n",
       "      <td>3</td>\n",
       "      <td>1</td>\n",
       "      <td>3</td>\n",
       "      <td>Heikkinen, Miss. Laina</td>\n",
       "      <td>1</td>\n",
       "      <td>26.0</td>\n",
       "      <td>0</td>\n",
       "      <td>0</td>\n",
       "      <td>STON/O2. 3101282</td>\n",
       "      <td>7.9250</td>\n",
       "      <td>NaN</td>\n",
       "      <td>S</td>\n",
       "    </tr>\n",
       "    <tr>\n",
       "      <th>3</th>\n",
       "      <td>4</td>\n",
       "      <td>1</td>\n",
       "      <td>1</td>\n",
       "      <td>Futrelle, Mrs. Jacques Heath (Lily May Peel)</td>\n",
       "      <td>1</td>\n",
       "      <td>35.0</td>\n",
       "      <td>1</td>\n",
       "      <td>0</td>\n",
       "      <td>113803</td>\n",
       "      <td>53.1000</td>\n",
       "      <td>C123</td>\n",
       "      <td>S</td>\n",
       "    </tr>\n",
       "    <tr>\n",
       "      <th>4</th>\n",
       "      <td>5</td>\n",
       "      <td>0</td>\n",
       "      <td>3</td>\n",
       "      <td>Allen, Mr. William Henry</td>\n",
       "      <td>0</td>\n",
       "      <td>35.0</td>\n",
       "      <td>0</td>\n",
       "      <td>0</td>\n",
       "      <td>373450</td>\n",
       "      <td>8.0500</td>\n",
       "      <td>NaN</td>\n",
       "      <td>S</td>\n",
       "    </tr>\n",
       "  </tbody>\n",
       "</table>\n",
       "</div>"
      ],
      "text/plain": [
       "   PassengerId  Survived  Pclass  \\\n",
       "0            1         0       3   \n",
       "1            2         1       1   \n",
       "2            3         1       3   \n",
       "3            4         1       1   \n",
       "4            5         0       3   \n",
       "\n",
       "                                                Name  Sex   Age  SibSp  Parch  \\\n",
       "0                            Braund, Mr. Owen Harris    0  22.0      1      0   \n",
       "1  Cumings, Mrs. John Bradley (Florence Briggs Th...    1  38.0      1      0   \n",
       "2                             Heikkinen, Miss. Laina    1  26.0      0      0   \n",
       "3       Futrelle, Mrs. Jacques Heath (Lily May Peel)    1  35.0      1      0   \n",
       "4                           Allen, Mr. William Henry    0  35.0      0      0   \n",
       "\n",
       "             Ticket     Fare Cabin Embarked  \n",
       "0         A/5 21171   7.2500   NaN        S  \n",
       "1          PC 17599  71.2833   C85        C  \n",
       "2  STON/O2. 3101282   7.9250   NaN        S  \n",
       "3            113803  53.1000  C123        S  \n",
       "4            373450   8.0500   NaN        S  "
      ]
     },
     "execution_count": 20,
     "metadata": {},
     "output_type": "execute_result"
    }
   ],
   "source": [
    "passengers.head()"
   ]
  },
  {
   "cell_type": "code",
   "execution_count": 21,
   "id": "78b5ed43",
   "metadata": {
    "execution": {
     "iopub.execute_input": "2022-06-26T01:24:38.042763Z",
     "iopub.status.busy": "2022-06-26T01:24:38.041472Z",
     "iopub.status.idle": "2022-06-26T01:24:38.068196Z",
     "shell.execute_reply": "2022-06-26T01:24:38.067206Z"
    },
    "papermill": {
     "duration": 0.050893,
     "end_time": "2022-06-26T01:24:38.070418",
     "exception": false,
     "start_time": "2022-06-26T01:24:38.019525",
     "status": "completed"
    },
    "tags": []
   },
   "outputs": [
    {
     "data": {
      "text/html": [
       "<div>\n",
       "<style scoped>\n",
       "    .dataframe tbody tr th:only-of-type {\n",
       "        vertical-align: middle;\n",
       "    }\n",
       "\n",
       "    .dataframe tbody tr th {\n",
       "        vertical-align: top;\n",
       "    }\n",
       "\n",
       "    .dataframe thead th {\n",
       "        text-align: right;\n",
       "    }\n",
       "</style>\n",
       "<table border=\"1\" class=\"dataframe\">\n",
       "  <thead>\n",
       "    <tr style=\"text-align: right;\">\n",
       "      <th></th>\n",
       "      <th>PassengerId</th>\n",
       "      <th>Survived</th>\n",
       "      <th>Pclass</th>\n",
       "      <th>Name</th>\n",
       "      <th>Sex</th>\n",
       "      <th>Age</th>\n",
       "      <th>SibSp</th>\n",
       "      <th>Parch</th>\n",
       "      <th>Ticket</th>\n",
       "      <th>Fare</th>\n",
       "      <th>Cabin</th>\n",
       "      <th>Embarked</th>\n",
       "      <th>FirstClass</th>\n",
       "      <th>SecondClass</th>\n",
       "      <th>ThirdClass</th>\n",
       "    </tr>\n",
       "  </thead>\n",
       "  <tbody>\n",
       "    <tr>\n",
       "      <th>0</th>\n",
       "      <td>1</td>\n",
       "      <td>0</td>\n",
       "      <td>3</td>\n",
       "      <td>Braund, Mr. Owen Harris</td>\n",
       "      <td>0</td>\n",
       "      <td>22.000000</td>\n",
       "      <td>1</td>\n",
       "      <td>0</td>\n",
       "      <td>A/5 21171</td>\n",
       "      <td>7.2500</td>\n",
       "      <td>NaN</td>\n",
       "      <td>S</td>\n",
       "      <td>0</td>\n",
       "      <td>0</td>\n",
       "      <td>1</td>\n",
       "    </tr>\n",
       "    <tr>\n",
       "      <th>1</th>\n",
       "      <td>2</td>\n",
       "      <td>1</td>\n",
       "      <td>1</td>\n",
       "      <td>Cumings, Mrs. John Bradley (Florence Briggs Th...</td>\n",
       "      <td>1</td>\n",
       "      <td>38.000000</td>\n",
       "      <td>1</td>\n",
       "      <td>0</td>\n",
       "      <td>PC 17599</td>\n",
       "      <td>71.2833</td>\n",
       "      <td>C85</td>\n",
       "      <td>C</td>\n",
       "      <td>1</td>\n",
       "      <td>0</td>\n",
       "      <td>0</td>\n",
       "    </tr>\n",
       "    <tr>\n",
       "      <th>2</th>\n",
       "      <td>3</td>\n",
       "      <td>1</td>\n",
       "      <td>3</td>\n",
       "      <td>Heikkinen, Miss. Laina</td>\n",
       "      <td>1</td>\n",
       "      <td>26.000000</td>\n",
       "      <td>0</td>\n",
       "      <td>0</td>\n",
       "      <td>STON/O2. 3101282</td>\n",
       "      <td>7.9250</td>\n",
       "      <td>NaN</td>\n",
       "      <td>S</td>\n",
       "      <td>0</td>\n",
       "      <td>0</td>\n",
       "      <td>1</td>\n",
       "    </tr>\n",
       "    <tr>\n",
       "      <th>3</th>\n",
       "      <td>4</td>\n",
       "      <td>1</td>\n",
       "      <td>1</td>\n",
       "      <td>Futrelle, Mrs. Jacques Heath (Lily May Peel)</td>\n",
       "      <td>1</td>\n",
       "      <td>35.000000</td>\n",
       "      <td>1</td>\n",
       "      <td>0</td>\n",
       "      <td>113803</td>\n",
       "      <td>53.1000</td>\n",
       "      <td>C123</td>\n",
       "      <td>S</td>\n",
       "      <td>1</td>\n",
       "      <td>0</td>\n",
       "      <td>0</td>\n",
       "    </tr>\n",
       "    <tr>\n",
       "      <th>4</th>\n",
       "      <td>5</td>\n",
       "      <td>0</td>\n",
       "      <td>3</td>\n",
       "      <td>Allen, Mr. William Henry</td>\n",
       "      <td>0</td>\n",
       "      <td>35.000000</td>\n",
       "      <td>0</td>\n",
       "      <td>0</td>\n",
       "      <td>373450</td>\n",
       "      <td>8.0500</td>\n",
       "      <td>NaN</td>\n",
       "      <td>S</td>\n",
       "      <td>0</td>\n",
       "      <td>0</td>\n",
       "      <td>1</td>\n",
       "    </tr>\n",
       "    <tr>\n",
       "      <th>...</th>\n",
       "      <td>...</td>\n",
       "      <td>...</td>\n",
       "      <td>...</td>\n",
       "      <td>...</td>\n",
       "      <td>...</td>\n",
       "      <td>...</td>\n",
       "      <td>...</td>\n",
       "      <td>...</td>\n",
       "      <td>...</td>\n",
       "      <td>...</td>\n",
       "      <td>...</td>\n",
       "      <td>...</td>\n",
       "      <td>...</td>\n",
       "      <td>...</td>\n",
       "      <td>...</td>\n",
       "    </tr>\n",
       "    <tr>\n",
       "      <th>886</th>\n",
       "      <td>887</td>\n",
       "      <td>0</td>\n",
       "      <td>2</td>\n",
       "      <td>Montvila, Rev. Juozas</td>\n",
       "      <td>0</td>\n",
       "      <td>27.000000</td>\n",
       "      <td>0</td>\n",
       "      <td>0</td>\n",
       "      <td>211536</td>\n",
       "      <td>13.0000</td>\n",
       "      <td>NaN</td>\n",
       "      <td>S</td>\n",
       "      <td>0</td>\n",
       "      <td>1</td>\n",
       "      <td>0</td>\n",
       "    </tr>\n",
       "    <tr>\n",
       "      <th>887</th>\n",
       "      <td>888</td>\n",
       "      <td>1</td>\n",
       "      <td>1</td>\n",
       "      <td>Graham, Miss. Margaret Edith</td>\n",
       "      <td>1</td>\n",
       "      <td>19.000000</td>\n",
       "      <td>0</td>\n",
       "      <td>0</td>\n",
       "      <td>112053</td>\n",
       "      <td>30.0000</td>\n",
       "      <td>B42</td>\n",
       "      <td>S</td>\n",
       "      <td>1</td>\n",
       "      <td>0</td>\n",
       "      <td>0</td>\n",
       "    </tr>\n",
       "    <tr>\n",
       "      <th>888</th>\n",
       "      <td>889</td>\n",
       "      <td>0</td>\n",
       "      <td>3</td>\n",
       "      <td>Johnston, Miss. Catherine Helen \"Carrie\"</td>\n",
       "      <td>1</td>\n",
       "      <td>29.699118</td>\n",
       "      <td>1</td>\n",
       "      <td>2</td>\n",
       "      <td>W./C. 6607</td>\n",
       "      <td>23.4500</td>\n",
       "      <td>NaN</td>\n",
       "      <td>S</td>\n",
       "      <td>0</td>\n",
       "      <td>0</td>\n",
       "      <td>1</td>\n",
       "    </tr>\n",
       "    <tr>\n",
       "      <th>889</th>\n",
       "      <td>890</td>\n",
       "      <td>1</td>\n",
       "      <td>1</td>\n",
       "      <td>Behr, Mr. Karl Howell</td>\n",
       "      <td>0</td>\n",
       "      <td>26.000000</td>\n",
       "      <td>0</td>\n",
       "      <td>0</td>\n",
       "      <td>111369</td>\n",
       "      <td>30.0000</td>\n",
       "      <td>C148</td>\n",
       "      <td>C</td>\n",
       "      <td>1</td>\n",
       "      <td>0</td>\n",
       "      <td>0</td>\n",
       "    </tr>\n",
       "    <tr>\n",
       "      <th>890</th>\n",
       "      <td>891</td>\n",
       "      <td>0</td>\n",
       "      <td>3</td>\n",
       "      <td>Dooley, Mr. Patrick</td>\n",
       "      <td>0</td>\n",
       "      <td>32.000000</td>\n",
       "      <td>0</td>\n",
       "      <td>0</td>\n",
       "      <td>370376</td>\n",
       "      <td>7.7500</td>\n",
       "      <td>NaN</td>\n",
       "      <td>Q</td>\n",
       "      <td>0</td>\n",
       "      <td>0</td>\n",
       "      <td>1</td>\n",
       "    </tr>\n",
       "  </tbody>\n",
       "</table>\n",
       "<p>891 rows × 15 columns</p>\n",
       "</div>"
      ],
      "text/plain": [
       "     PassengerId  Survived  Pclass  \\\n",
       "0              1         0       3   \n",
       "1              2         1       1   \n",
       "2              3         1       3   \n",
       "3              4         1       1   \n",
       "4              5         0       3   \n",
       "..           ...       ...     ...   \n",
       "886          887         0       2   \n",
       "887          888         1       1   \n",
       "888          889         0       3   \n",
       "889          890         1       1   \n",
       "890          891         0       3   \n",
       "\n",
       "                                                  Name  Sex        Age  SibSp  \\\n",
       "0                              Braund, Mr. Owen Harris    0  22.000000      1   \n",
       "1    Cumings, Mrs. John Bradley (Florence Briggs Th...    1  38.000000      1   \n",
       "2                               Heikkinen, Miss. Laina    1  26.000000      0   \n",
       "3         Futrelle, Mrs. Jacques Heath (Lily May Peel)    1  35.000000      1   \n",
       "4                             Allen, Mr. William Henry    0  35.000000      0   \n",
       "..                                                 ...  ...        ...    ...   \n",
       "886                              Montvila, Rev. Juozas    0  27.000000      0   \n",
       "887                       Graham, Miss. Margaret Edith    1  19.000000      0   \n",
       "888           Johnston, Miss. Catherine Helen \"Carrie\"    1  29.699118      1   \n",
       "889                              Behr, Mr. Karl Howell    0  26.000000      0   \n",
       "890                                Dooley, Mr. Patrick    0  32.000000      0   \n",
       "\n",
       "     Parch            Ticket     Fare Cabin Embarked  FirstClass  SecondClass  \\\n",
       "0        0         A/5 21171   7.2500   NaN        S           0            0   \n",
       "1        0          PC 17599  71.2833   C85        C           1            0   \n",
       "2        0  STON/O2. 3101282   7.9250   NaN        S           0            0   \n",
       "3        0            113803  53.1000  C123        S           1            0   \n",
       "4        0            373450   8.0500   NaN        S           0            0   \n",
       "..     ...               ...      ...   ...      ...         ...          ...   \n",
       "886      0            211536  13.0000   NaN        S           0            1   \n",
       "887      0            112053  30.0000   B42        S           1            0   \n",
       "888      2        W./C. 6607  23.4500   NaN        S           0            0   \n",
       "889      0            111369  30.0000  C148        C           1            0   \n",
       "890      0            370376   7.7500   NaN        Q           0            0   \n",
       "\n",
       "     ThirdClass  \n",
       "0             1  \n",
       "1             0  \n",
       "2             1  \n",
       "3             0  \n",
       "4             1  \n",
       "..          ...  \n",
       "886           0  \n",
       "887           0  \n",
       "888           1  \n",
       "889           0  \n",
       "890           1  \n",
       "\n",
       "[891 rows x 15 columns]"
      ]
     },
     "execution_count": 21,
     "metadata": {},
     "output_type": "execute_result"
    }
   ],
   "source": [
    "passengers2 = pd.concat([passengers, dummies], axis=1, join=\"inner\")\n",
    "passengers2"
   ]
  },
  {
   "cell_type": "markdown",
   "id": "25f2cc07",
   "metadata": {
    "papermill": {
     "duration": 0.021916,
     "end_time": "2022-06-26T01:24:38.114740",
     "exception": false,
     "start_time": "2022-06-26T01:24:38.092824",
     "status": "completed"
    },
    "tags": []
   },
   "source": [
    "# **6**"
   ]
  },
  {
   "cell_type": "code",
   "execution_count": 22,
   "id": "252599e0",
   "metadata": {
    "execution": {
     "iopub.execute_input": "2022-06-26T01:24:38.161244Z",
     "iopub.status.busy": "2022-06-26T01:24:38.160537Z",
     "iopub.status.idle": "2022-06-26T01:24:38.171456Z",
     "shell.execute_reply": "2022-06-26T01:24:38.169792Z"
    },
    "papermill": {
     "duration": 0.037601,
     "end_time": "2022-06-26T01:24:38.174343",
     "exception": false,
     "start_time": "2022-06-26T01:24:38.136742",
     "status": "completed"
    },
    "tags": []
   },
   "outputs": [
    {
     "name": "stdout",
     "output_type": "stream",
     "text": [
      "   Sex   Age  FirstClass  SecondClass\n",
      "0    0  22.0           0            0\n",
      "1    1  38.0           1            0\n",
      "2    1  26.0           0            0\n",
      "3    1  35.0           1            0\n",
      "4    0  35.0           0            0\n"
     ]
    }
   ],
   "source": [
    "features = passengers2[[\"Sex\",\"Age\",\"FirstClass\",\"SecondClass\"]]\n",
    "\n",
    "print(features.head())\n"
   ]
  },
  {
   "cell_type": "markdown",
   "id": "1aec4833",
   "metadata": {
    "papermill": {
     "duration": 0.021865,
     "end_time": "2022-06-26T01:24:38.219322",
     "exception": false,
     "start_time": "2022-06-26T01:24:38.197457",
     "status": "completed"
    },
    "tags": []
   },
   "source": [
    "# **7**"
   ]
  },
  {
   "cell_type": "code",
   "execution_count": 23,
   "id": "83cf52af",
   "metadata": {
    "execution": {
     "iopub.execute_input": "2022-06-26T01:24:38.266699Z",
     "iopub.status.busy": "2022-06-26T01:24:38.265226Z",
     "iopub.status.idle": "2022-06-26T01:24:38.275677Z",
     "shell.execute_reply": "2022-06-26T01:24:38.275060Z"
    },
    "papermill": {
     "duration": 0.036361,
     "end_time": "2022-06-26T01:24:38.277998",
     "exception": false,
     "start_time": "2022-06-26T01:24:38.241637",
     "status": "completed"
    },
    "tags": []
   },
   "outputs": [
    {
     "name": "stdout",
     "output_type": "stream",
     "text": [
      "<class 'pandas.core.frame.DataFrame'>\n",
      "RangeIndex: 891 entries, 0 to 890\n",
      "Data columns (total 12 columns):\n",
      " #   Column       Non-Null Count  Dtype  \n",
      "---  ------       --------------  -----  \n",
      " 0   PassengerId  891 non-null    int64  \n",
      " 1   Survived     891 non-null    int64  \n",
      " 2   Pclass       891 non-null    int64  \n",
      " 3   Name         891 non-null    object \n",
      " 4   Sex          891 non-null    int64  \n",
      " 5   Age          891 non-null    float64\n",
      " 6   SibSp        891 non-null    int64  \n",
      " 7   Parch        891 non-null    int64  \n",
      " 8   Ticket       891 non-null    object \n",
      " 9   Fare         891 non-null    float64\n",
      " 10  Cabin        204 non-null    object \n",
      " 11  Embarked     889 non-null    object \n",
      "dtypes: float64(2), int64(6), object(4)\n",
      "memory usage: 83.7+ KB\n"
     ]
    }
   ],
   "source": [
    "passengers.info()"
   ]
  },
  {
   "cell_type": "code",
   "execution_count": 24,
   "id": "21445ba7",
   "metadata": {
    "execution": {
     "iopub.execute_input": "2022-06-26T01:24:38.324809Z",
     "iopub.status.busy": "2022-06-26T01:24:38.324473Z",
     "iopub.status.idle": "2022-06-26T01:24:38.330458Z",
     "shell.execute_reply": "2022-06-26T01:24:38.329462Z"
    },
    "papermill": {
     "duration": 0.03267,
     "end_time": "2022-06-26T01:24:38.333197",
     "exception": false,
     "start_time": "2022-06-26T01:24:38.300527",
     "status": "completed"
    },
    "tags": []
   },
   "outputs": [
    {
     "name": "stdout",
     "output_type": "stream",
     "text": [
      "   Survived\n",
      "0         0\n",
      "1         1\n",
      "2         1\n",
      "3         1\n",
      "4         0\n"
     ]
    }
   ],
   "source": [
    "survival = passengers2[[\"Survived\"]]\n",
    "\n",
    "print(survival.head())"
   ]
  },
  {
   "cell_type": "code",
   "execution_count": 25,
   "id": "7313bd0c",
   "metadata": {
    "execution": {
     "iopub.execute_input": "2022-06-26T01:24:38.380723Z",
     "iopub.status.busy": "2022-06-26T01:24:38.379508Z",
     "iopub.status.idle": "2022-06-26T01:24:38.385368Z",
     "shell.execute_reply": "2022-06-26T01:24:38.384340Z"
    },
    "papermill": {
     "duration": 0.032563,
     "end_time": "2022-06-26T01:24:38.388180",
     "exception": false,
     "start_time": "2022-06-26T01:24:38.355617",
     "status": "completed"
    },
    "tags": []
   },
   "outputs": [
    {
     "name": "stdout",
     "output_type": "stream",
     "text": [
      "(891, 4)\n"
     ]
    }
   ],
   "source": [
    "print(features.shape)\n"
   ]
  },
  {
   "cell_type": "code",
   "execution_count": 26,
   "id": "9e116558",
   "metadata": {
    "execution": {
     "iopub.execute_input": "2022-06-26T01:24:38.434215Z",
     "iopub.status.busy": "2022-06-26T01:24:38.433868Z",
     "iopub.status.idle": "2022-06-26T01:24:38.439620Z",
     "shell.execute_reply": "2022-06-26T01:24:38.438405Z"
    },
    "papermill": {
     "duration": 0.032031,
     "end_time": "2022-06-26T01:24:38.442362",
     "exception": false,
     "start_time": "2022-06-26T01:24:38.410331",
     "status": "completed"
    },
    "tags": []
   },
   "outputs": [
    {
     "name": "stdout",
     "output_type": "stream",
     "text": [
      "(891, 1)\n"
     ]
    }
   ],
   "source": [
    "print(survival.shape)"
   ]
  },
  {
   "cell_type": "code",
   "execution_count": 27,
   "id": "db10c377",
   "metadata": {
    "execution": {
     "iopub.execute_input": "2022-06-26T01:24:38.489493Z",
     "iopub.status.busy": "2022-06-26T01:24:38.489148Z",
     "iopub.status.idle": "2022-06-26T01:24:38.495674Z",
     "shell.execute_reply": "2022-06-26T01:24:38.495014Z"
    },
    "papermill": {
     "duration": 0.032183,
     "end_time": "2022-06-26T01:24:38.497604",
     "exception": false,
     "start_time": "2022-06-26T01:24:38.465421",
     "status": "completed"
    },
    "tags": []
   },
   "outputs": [],
   "source": [
    "features_train, features_test, survival_train, survival_test = train_test_split(features,survival)"
   ]
  },
  {
   "cell_type": "code",
   "execution_count": 28,
   "id": "c0ded61e",
   "metadata": {
    "execution": {
     "iopub.execute_input": "2022-06-26T01:24:38.544462Z",
     "iopub.status.busy": "2022-06-26T01:24:38.543935Z",
     "iopub.status.idle": "2022-06-26T01:24:38.547653Z",
     "shell.execute_reply": "2022-06-26T01:24:38.547062Z"
    },
    "papermill": {
     "duration": 0.029818,
     "end_time": "2022-06-26T01:24:38.550080",
     "exception": false,
     "start_time": "2022-06-26T01:24:38.520262",
     "status": "completed"
    },
    "tags": []
   },
   "outputs": [
    {
     "name": "stdout",
     "output_type": "stream",
     "text": [
      "(668, 4)\n"
     ]
    }
   ],
   "source": [
    "print(features_train.shape) \n"
   ]
  },
  {
   "cell_type": "code",
   "execution_count": 29,
   "id": "c508e022",
   "metadata": {
    "execution": {
     "iopub.execute_input": "2022-06-26T01:24:38.597055Z",
     "iopub.status.busy": "2022-06-26T01:24:38.596542Z",
     "iopub.status.idle": "2022-06-26T01:24:38.600142Z",
     "shell.execute_reply": "2022-06-26T01:24:38.599609Z"
    },
    "papermill": {
     "duration": 0.029796,
     "end_time": "2022-06-26T01:24:38.602513",
     "exception": false,
     "start_time": "2022-06-26T01:24:38.572717",
     "status": "completed"
    },
    "tags": []
   },
   "outputs": [
    {
     "name": "stdout",
     "output_type": "stream",
     "text": [
      "(223, 4)\n"
     ]
    }
   ],
   "source": [
    "print(features_test.shape)"
   ]
  },
  {
   "cell_type": "code",
   "execution_count": 30,
   "id": "73293bcd",
   "metadata": {
    "execution": {
     "iopub.execute_input": "2022-06-26T01:24:38.649120Z",
     "iopub.status.busy": "2022-06-26T01:24:38.648216Z",
     "iopub.status.idle": "2022-06-26T01:24:38.652932Z",
     "shell.execute_reply": "2022-06-26T01:24:38.652277Z"
    },
    "papermill": {
     "duration": 0.030213,
     "end_time": "2022-06-26T01:24:38.654967",
     "exception": false,
     "start_time": "2022-06-26T01:24:38.624754",
     "status": "completed"
    },
    "tags": []
   },
   "outputs": [
    {
     "name": "stdout",
     "output_type": "stream",
     "text": [
      "(668, 1)\n"
     ]
    }
   ],
   "source": [
    "print(survival_train.shape)\n"
   ]
  },
  {
   "cell_type": "code",
   "execution_count": 31,
   "id": "4eba843c",
   "metadata": {
    "execution": {
     "iopub.execute_input": "2022-06-26T01:24:38.701710Z",
     "iopub.status.busy": "2022-06-26T01:24:38.701283Z",
     "iopub.status.idle": "2022-06-26T01:24:38.705390Z",
     "shell.execute_reply": "2022-06-26T01:24:38.704821Z"
    },
    "papermill": {
     "duration": 0.031996,
     "end_time": "2022-06-26T01:24:38.709103",
     "exception": false,
     "start_time": "2022-06-26T01:24:38.677107",
     "status": "completed"
    },
    "tags": []
   },
   "outputs": [
    {
     "name": "stdout",
     "output_type": "stream",
     "text": [
      "(223, 1)\n"
     ]
    }
   ],
   "source": [
    "print(survival_test.shape)"
   ]
  },
  {
   "cell_type": "markdown",
   "id": "aa4b98e0",
   "metadata": {
    "papermill": {
     "duration": 0.022861,
     "end_time": "2022-06-26T01:24:38.755543",
     "exception": false,
     "start_time": "2022-06-26T01:24:38.732682",
     "status": "completed"
    },
    "tags": []
   },
   "source": [
    "# **8**"
   ]
  },
  {
   "cell_type": "code",
   "execution_count": 32,
   "id": "87d6ac15",
   "metadata": {
    "execution": {
     "iopub.execute_input": "2022-06-26T01:24:38.803341Z",
     "iopub.status.busy": "2022-06-26T01:24:38.802747Z",
     "iopub.status.idle": "2022-06-26T01:24:38.807704Z",
     "shell.execute_reply": "2022-06-26T01:24:38.807074Z"
    },
    "papermill": {
     "duration": 0.031409,
     "end_time": "2022-06-26T01:24:38.810044",
     "exception": false,
     "start_time": "2022-06-26T01:24:38.778635",
     "status": "completed"
    },
    "tags": []
   },
   "outputs": [],
   "source": [
    "scaler = StandardScaler().fit(features_train)"
   ]
  },
  {
   "cell_type": "code",
   "execution_count": 33,
   "id": "1fc6b8f4",
   "metadata": {
    "execution": {
     "iopub.execute_input": "2022-06-26T01:24:38.859078Z",
     "iopub.status.busy": "2022-06-26T01:24:38.858042Z",
     "iopub.status.idle": "2022-06-26T01:24:38.870814Z",
     "shell.execute_reply": "2022-06-26T01:24:38.868648Z"
    },
    "papermill": {
     "duration": 0.040593,
     "end_time": "2022-06-26T01:24:38.873368",
     "exception": false,
     "start_time": "2022-06-26T01:24:38.832775",
     "status": "completed"
    },
    "tags": []
   },
   "outputs": [],
   "source": [
    "features_train_scaled = scaler.fit_transform(features_train)\n",
    "features_test_scaled = scaler.transform(features_test)"
   ]
  },
  {
   "cell_type": "code",
   "execution_count": 34,
   "id": "ea696e91",
   "metadata": {
    "execution": {
     "iopub.execute_input": "2022-06-26T01:24:38.921448Z",
     "iopub.status.busy": "2022-06-26T01:24:38.920601Z",
     "iopub.status.idle": "2022-06-26T01:24:38.927282Z",
     "shell.execute_reply": "2022-06-26T01:24:38.925989Z"
    },
    "papermill": {
     "duration": 0.033042,
     "end_time": "2022-06-26T01:24:38.929642",
     "exception": false,
     "start_time": "2022-06-26T01:24:38.896600",
     "status": "completed"
    },
    "tags": []
   },
   "outputs": [
    {
     "name": "stdout",
     "output_type": "stream",
     "text": [
      "[ 6.64804206e-18  8.50949384e-17 -7.17988543e-17 -3.72290356e-17]\n",
      "[1. 1. 1. 1.]\n"
     ]
    }
   ],
   "source": [
    "print(features_train_scaled.mean(axis=0))\n",
    "print(features_train_scaled.std(axis=0))"
   ]
  },
  {
   "cell_type": "code",
   "execution_count": 35,
   "id": "7b2c0168",
   "metadata": {
    "execution": {
     "iopub.execute_input": "2022-06-26T01:24:38.976048Z",
     "iopub.status.busy": "2022-06-26T01:24:38.975445Z",
     "iopub.status.idle": "2022-06-26T01:24:38.981746Z",
     "shell.execute_reply": "2022-06-26T01:24:38.980499Z"
    },
    "papermill": {
     "duration": 0.031915,
     "end_time": "2022-06-26T01:24:38.983832",
     "exception": false,
     "start_time": "2022-06-26T01:24:38.951917",
     "status": "completed"
    },
    "tags": []
   },
   "outputs": [
    {
     "name": "stdout",
     "output_type": "stream",
     "text": [
      "[-0.01985358 -0.068974   -0.01477024  0.12008486]\n",
      "[0.99375787 1.02244324 0.99104758 1.08205421]\n"
     ]
    }
   ],
   "source": [
    "print(features_test_scaled.mean(axis=0))\n",
    "print(features_test_scaled.std(axis=0))"
   ]
  },
  {
   "cell_type": "markdown",
   "id": "8e96a034",
   "metadata": {
    "papermill": {
     "duration": 0.013887,
     "end_time": "2022-06-26T01:24:39.012437",
     "exception": false,
     "start_time": "2022-06-26T01:24:38.998550",
     "status": "completed"
    },
    "tags": []
   },
   "source": [
    "# **9**"
   ]
  },
  {
   "cell_type": "code",
   "execution_count": 36,
   "id": "c94fe033",
   "metadata": {
    "execution": {
     "iopub.execute_input": "2022-06-26T01:24:39.043485Z",
     "iopub.status.busy": "2022-06-26T01:24:39.042457Z",
     "iopub.status.idle": "2022-06-26T01:24:39.064122Z",
     "shell.execute_reply": "2022-06-26T01:24:39.062828Z"
    },
    "papermill": {
     "duration": 0.039801,
     "end_time": "2022-06-26T01:24:39.066606",
     "exception": false,
     "start_time": "2022-06-26T01:24:39.026805",
     "status": "completed"
    },
    "tags": []
   },
   "outputs": [
    {
     "data": {
      "text/plain": [
       "LogisticRegression()"
      ]
     },
     "execution_count": 36,
     "metadata": {},
     "output_type": "execute_result"
    }
   ],
   "source": [
    "logReg = LogisticRegression()\n",
    "logReg.fit(features_train_scaled,survival_train.values.ravel())"
   ]
  },
  {
   "cell_type": "markdown",
   "id": "cb755fee",
   "metadata": {
    "papermill": {
     "duration": 0.022506,
     "end_time": "2022-06-26T01:24:39.111907",
     "exception": false,
     "start_time": "2022-06-26T01:24:39.089401",
     "status": "completed"
    },
    "tags": []
   },
   "source": [
    "# **10**"
   ]
  },
  {
   "cell_type": "code",
   "execution_count": 37,
   "id": "88fd1de2",
   "metadata": {
    "execution": {
     "iopub.execute_input": "2022-06-26T01:24:39.159923Z",
     "iopub.status.busy": "2022-06-26T01:24:39.159604Z",
     "iopub.status.idle": "2022-06-26T01:24:39.165967Z",
     "shell.execute_reply": "2022-06-26T01:24:39.165023Z"
    },
    "papermill": {
     "duration": 0.033255,
     "end_time": "2022-06-26T01:24:39.168402",
     "exception": false,
     "start_time": "2022-06-26T01:24:39.135147",
     "status": "completed"
    },
    "tags": []
   },
   "outputs": [],
   "source": [
    "score = logReg.score(features_train_scaled,survival_train)"
   ]
  },
  {
   "cell_type": "code",
   "execution_count": 38,
   "id": "7f5db774",
   "metadata": {
    "execution": {
     "iopub.execute_input": "2022-06-26T01:24:39.216965Z",
     "iopub.status.busy": "2022-06-26T01:24:39.216633Z",
     "iopub.status.idle": "2022-06-26T01:24:39.221976Z",
     "shell.execute_reply": "2022-06-26T01:24:39.221115Z"
    },
    "papermill": {
     "duration": 0.033006,
     "end_time": "2022-06-26T01:24:39.224353",
     "exception": false,
     "start_time": "2022-06-26T01:24:39.191347",
     "status": "completed"
    },
    "tags": []
   },
   "outputs": [
    {
     "name": "stdout",
     "output_type": "stream",
     "text": [
      "Training Data Score: 80.2 %\n"
     ]
    }
   ],
   "source": [
    "print(\"Training Data Score:\", \"{0:0.1f}\".format(score*100),\"%\")"
   ]
  },
  {
   "cell_type": "markdown",
   "id": "1749800d",
   "metadata": {
    "papermill": {
     "duration": 0.021908,
     "end_time": "2022-06-26T01:24:39.269395",
     "exception": false,
     "start_time": "2022-06-26T01:24:39.247487",
     "status": "completed"
    },
    "tags": []
   },
   "source": [
    "# **11**"
   ]
  },
  {
   "cell_type": "code",
   "execution_count": 39,
   "id": "e809c80f",
   "metadata": {
    "execution": {
     "iopub.execute_input": "2022-06-26T01:24:39.315801Z",
     "iopub.status.busy": "2022-06-26T01:24:39.315449Z",
     "iopub.status.idle": "2022-06-26T01:24:39.321541Z",
     "shell.execute_reply": "2022-06-26T01:24:39.320530Z"
    },
    "papermill": {
     "duration": 0.032094,
     "end_time": "2022-06-26T01:24:39.323889",
     "exception": false,
     "start_time": "2022-06-26T01:24:39.291795",
     "status": "completed"
    },
    "tags": []
   },
   "outputs": [
    {
     "name": "stdout",
     "output_type": "stream",
     "text": [
      "Test Score: 78.5 %\n"
     ]
    }
   ],
   "source": [
    "score2 = logReg.score(features_test_scaled,survival_test)\n",
    "print(\"Test Score:\", \"{0:0.1f}\".format(score2*100),\"%\")"
   ]
  },
  {
   "cell_type": "markdown",
   "id": "15156b32",
   "metadata": {
    "papermill": {
     "duration": 0.023304,
     "end_time": "2022-06-26T01:24:39.371450",
     "exception": false,
     "start_time": "2022-06-26T01:24:39.348146",
     "status": "completed"
    },
    "tags": []
   },
   "source": [
    "# **12**"
   ]
  },
  {
   "cell_type": "code",
   "execution_count": 40,
   "id": "f0bc5ed4",
   "metadata": {
    "execution": {
     "iopub.execute_input": "2022-06-26T01:24:39.421650Z",
     "iopub.status.busy": "2022-06-26T01:24:39.421238Z",
     "iopub.status.idle": "2022-06-26T01:24:39.427084Z",
     "shell.execute_reply": "2022-06-26T01:24:39.426246Z"
    },
    "papermill": {
     "duration": 0.032919,
     "end_time": "2022-06-26T01:24:39.428948",
     "exception": false,
     "start_time": "2022-06-26T01:24:39.396029",
     "status": "completed"
    },
    "tags": []
   },
   "outputs": [
    {
     "name": "stdout",
     "output_type": "stream",
     "text": [
      "[[ 1.20067056 -0.37714414  0.89694857  0.48623838]]\n"
     ]
    }
   ],
   "source": [
    "print(logReg.coef_)"
   ]
  },
  {
   "cell_type": "code",
   "execution_count": 41,
   "id": "85e888a2",
   "metadata": {
    "execution": {
     "iopub.execute_input": "2022-06-26T01:24:39.460877Z",
     "iopub.status.busy": "2022-06-26T01:24:39.460485Z",
     "iopub.status.idle": "2022-06-26T01:24:39.466262Z",
     "shell.execute_reply": "2022-06-26T01:24:39.465045Z"
    },
    "papermill": {
     "duration": 0.024158,
     "end_time": "2022-06-26T01:24:39.468370",
     "exception": false,
     "start_time": "2022-06-26T01:24:39.444212",
     "status": "completed"
    },
    "tags": []
   },
   "outputs": [
    {
     "name": "stdout",
     "output_type": "stream",
     "text": [
      "El estudio arroja que el coeficiente mayor es el segundo, mismo que se refiere a la variable: Sexo\n"
     ]
    }
   ],
   "source": [
    "print(\"El estudio arroja que el coeficiente mayor es el segundo, mismo que se refiere a la variable: Sexo\")"
   ]
  },
  {
   "cell_type": "markdown",
   "id": "1895e3c2",
   "metadata": {
    "papermill": {
     "duration": 0.014096,
     "end_time": "2022-06-26T01:24:39.497074",
     "exception": false,
     "start_time": "2022-06-26T01:24:39.482978",
     "status": "completed"
    },
    "tags": []
   },
   "source": [
    "# **13**"
   ]
  },
  {
   "cell_type": "code",
   "execution_count": 42,
   "id": "f31368d6",
   "metadata": {
    "execution": {
     "iopub.execute_input": "2022-06-26T01:24:39.528067Z",
     "iopub.status.busy": "2022-06-26T01:24:39.527693Z",
     "iopub.status.idle": "2022-06-26T01:24:39.534348Z",
     "shell.execute_reply": "2022-06-26T01:24:39.533136Z"
    },
    "papermill": {
     "duration": 0.025123,
     "end_time": "2022-06-26T01:24:39.536878",
     "exception": false,
     "start_time": "2022-06-26T01:24:39.511755",
     "status": "completed"
    },
    "tags": []
   },
   "outputs": [],
   "source": [
    "Jack = np.array([0.0,20.0,0.0,0.0])\n",
    "Rose = np.array([1.0,17.0,1.0,0.0])\n",
    "You = np.array([0.0,44.0,0.0,1.0])"
   ]
  },
  {
   "cell_type": "code",
   "execution_count": 43,
   "id": "ca806756",
   "metadata": {
    "execution": {
     "iopub.execute_input": "2022-06-26T01:24:39.567440Z",
     "iopub.status.busy": "2022-06-26T01:24:39.567079Z",
     "iopub.status.idle": "2022-06-26T01:24:39.572150Z",
     "shell.execute_reply": "2022-06-26T01:24:39.571419Z"
    },
    "papermill": {
     "duration": 0.022385,
     "end_time": "2022-06-26T01:24:39.573874",
     "exception": false,
     "start_time": "2022-06-26T01:24:39.551489",
     "status": "completed"
    },
    "tags": []
   },
   "outputs": [],
   "source": [
    "sample_passengers = np.vstack((Jack, Rose, You))"
   ]
  },
  {
   "cell_type": "code",
   "execution_count": 44,
   "id": "56597b9b",
   "metadata": {
    "execution": {
     "iopub.execute_input": "2022-06-26T01:24:39.604416Z",
     "iopub.status.busy": "2022-06-26T01:24:39.604058Z",
     "iopub.status.idle": "2022-06-26T01:24:39.611266Z",
     "shell.execute_reply": "2022-06-26T01:24:39.610049Z"
    },
    "papermill": {
     "duration": 0.02473,
     "end_time": "2022-06-26T01:24:39.613117",
     "exception": false,
     "start_time": "2022-06-26T01:24:39.588387",
     "status": "completed"
    },
    "tags": []
   },
   "outputs": [
    {
     "data": {
      "text/plain": [
       "array([[-0.70710678, -0.57932412, -0.70710678, -0.70710678],\n",
       "       [ 1.41421356, -0.82760589,  1.41421356, -0.70710678],\n",
       "       [-0.70710678,  1.40693001, -0.70710678,  1.41421356]])"
      ]
     },
     "execution_count": 44,
     "metadata": {},
     "output_type": "execute_result"
    }
   ],
   "source": [
    "sample_passengers_scaled = scaler.fit_transform(sample_passengers)\n",
    "sample_passengers_scaled"
   ]
  },
  {
   "cell_type": "code",
   "execution_count": 45,
   "id": "cf8b8f2f",
   "metadata": {
    "execution": {
     "iopub.execute_input": "2022-06-26T01:24:39.643743Z",
     "iopub.status.busy": "2022-06-26T01:24:39.643310Z",
     "iopub.status.idle": "2022-06-26T01:24:39.651193Z",
     "shell.execute_reply": "2022-06-26T01:24:39.649604Z"
    },
    "papermill": {
     "duration": 0.025389,
     "end_time": "2022-06-26T01:24:39.653247",
     "exception": false,
     "start_time": "2022-06-26T01:24:39.627858",
     "status": "completed"
    },
    "tags": []
   },
   "outputs": [
    {
     "name": "stdout",
     "output_type": "stream",
     "text": [
      "[0 1 0]\n",
      "[[0.90893744 0.09106256]\n",
      " [0.09598703 0.90401297]\n",
      " [0.88271197 0.11728803]]\n"
     ]
    }
   ],
   "source": [
    "survival_sample = logReg.predict(sample_passengers_scaled)\n",
    "print(survival_sample)\n",
    "\n",
    "survival_proba = logReg.predict_proba(sample_passengers_scaled)\n",
    "print(survival_proba)"
   ]
  },
  {
   "cell_type": "code",
   "execution_count": 46,
   "id": "6bb6934a",
   "metadata": {
    "execution": {
     "iopub.execute_input": "2022-06-26T01:24:39.701505Z",
     "iopub.status.busy": "2022-06-26T01:24:39.700410Z",
     "iopub.status.idle": "2022-06-26T01:24:39.705918Z",
     "shell.execute_reply": "2022-06-26T01:24:39.704752Z"
    },
    "papermill": {
     "duration": 0.031626,
     "end_time": "2022-06-26T01:24:39.707839",
     "exception": false,
     "start_time": "2022-06-26T01:24:39.676213",
     "status": "completed"
    },
    "tags": []
   },
   "outputs": [],
   "source": [
    "#Bueno, lo entiendo de la siguiente manera: \n",
    "# Columna 1 - Yo hubiera tenido una probailidad del 88.47% de morir\n",
    "# Columna 2 - Yo hubiera tenido un 11.52% de sobrevivir al hundimiento\n",
    "\n",
    "#Que interesante ejercicio, nada alentador por si lo entendí bien, pero es un ejercicio muy interesante."
   ]
  }
 ],
 "metadata": {
  "kernelspec": {
   "display_name": "Python 3",
   "language": "python",
   "name": "python3"
  },
  "language_info": {
   "codemirror_mode": {
    "name": "ipython",
    "version": 3
   },
   "file_extension": ".py",
   "mimetype": "text/x-python",
   "name": "python",
   "nbconvert_exporter": "python",
   "pygments_lexer": "ipython3",
   "version": "3.7.12"
  },
  "papermill": {
   "default_parameters": {},
   "duration": 19.109335,
   "end_time": "2022-06-26T01:24:40.652286",
   "environment_variables": {},
   "exception": null,
   "input_path": "__notebook__.ipynb",
   "output_path": "__notebook__.ipynb",
   "parameters": {},
   "start_time": "2022-06-26T01:24:21.542951",
   "version": "2.3.4"
  }
 },
 "nbformat": 4,
 "nbformat_minor": 5
}
